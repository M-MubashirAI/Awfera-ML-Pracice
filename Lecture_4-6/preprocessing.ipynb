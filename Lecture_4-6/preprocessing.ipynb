{
 "cells": [
  {
   "cell_type": "markdown",
   "metadata": {},
   "source": [
    "# Lecture 4: Preprocessing\n",
    "\n",
    "## Course: Machine Learning \n",
    "## Instructor: Dr.Shazia Saqib\n",
    "## Student: Mubashir Malik\n",
    "## Email: mubshirmalik414@gmail.com\n",
    "\n",
    "---\n",
    "\n"
   ]
  },
  {
   "cell_type": "markdown",
   "metadata": {},
   "source": [
    "### What is Pandas?\n",
    "\n",
    "**Pandas** is a powerful and easy-to-use open-source Python library used for data manipulation, analysis, and cleaning.  \n",
    "It provides two main data structures:  \n",
    "- **Series**: One-dimensional labeled array  \n",
    "- **DataFrame**: Two-dimensional labeled data structure (like an Excel sheet)\n",
    "\n",
    "---\n",
    "\n",
    "### Why is Pandas Important?\n",
    "\n",
    "-  **Efficient Data Handling**: Easily load, filter, sort, and transform data.\n",
    "-  **Data Analysis**: Helps in exploring and understanding patterns in the data.\n",
    "-  **Preprocessing**: Useful for handling missing values, duplicates, encoding, etc.\n",
    "-  **Supports Multiple Formats**: Read/write data from CSV, Excel, SQL, JSON, and more.\n",
    "-  **Fast & Flexible**: Built on top of NumPy, making it optimized for performance.\n",
    "\n",
    "Pandas is a core library in any Data Science or Machine Learning project.\n"
   ]
  },
  {
   "cell_type": "code",
   "execution_count": 17,
   "metadata": {},
   "outputs": [],
   "source": [
    "import pandas as pd"
   ]
  },
  {
   "cell_type": "markdown",
   "metadata": {},
   "source": [
    " **Here are a few commonly used methods to load datasets into your own notebook and perform data preprocessing in Python**"
   ]
  },
  {
   "cell_type": "markdown",
   "metadata": {},
   "source": [
    "##  Load the Dataset"
   ]
  },
  {
   "cell_type": "code",
   "execution_count": 29,
   "metadata": {},
   "outputs": [],
   "source": [
    "# Load the dataset in csv format\n",
    "df = pd.read_csv(\"sample_employee_dataset_1000.csv\")"
   ]
  },
  {
   "cell_type": "code",
   "execution_count": 19,
   "metadata": {},
   "outputs": [
    {
     "data": {
      "text/plain": [
       "(1000, 8)"
      ]
     },
     "execution_count": 19,
     "metadata": {},
     "output_type": "execute_result"
    }
   ],
   "source": [
    "# Display the how many rows and columns are in the dataset\n",
    "df.shape"
   ]
  },
  {
   "cell_type": "code",
   "execution_count": 30,
   "metadata": {},
   "outputs": [
    {
     "data": {
      "text/html": [
       "<div>\n",
       "<style scoped>\n",
       "    .dataframe tbody tr th:only-of-type {\n",
       "        vertical-align: middle;\n",
       "    }\n",
       "\n",
       "    .dataframe tbody tr th {\n",
       "        vertical-align: top;\n",
       "    }\n",
       "\n",
       "    .dataframe thead th {\n",
       "        text-align: right;\n",
       "    }\n",
       "</style>\n",
       "<table border=\"1\" class=\"dataframe\">\n",
       "  <thead>\n",
       "    <tr style=\"text-align: right;\">\n",
       "      <th></th>\n",
       "      <th>ID</th>\n",
       "      <th>Name</th>\n",
       "      <th>Age</th>\n",
       "      <th>Gender</th>\n",
       "      <th>Salary</th>\n",
       "      <th>Joining Date</th>\n",
       "      <th>Is Active</th>\n",
       "      <th>Comments</th>\n",
       "    </tr>\n",
       "  </thead>\n",
       "  <tbody>\n",
       "    <tr>\n",
       "      <th>0</th>\n",
       "      <td>1</td>\n",
       "      <td>Linda</td>\n",
       "      <td>24</td>\n",
       "      <td>Female</td>\n",
       "      <td>87372.00</td>\n",
       "      <td>2021-03-21</td>\n",
       "      <td>True</td>\n",
       "      <td>Team Player</td>\n",
       "    </tr>\n",
       "    <tr>\n",
       "      <th>1</th>\n",
       "      <td>2</td>\n",
       "      <td>Sara</td>\n",
       "      <td>40</td>\n",
       "      <td>Male</td>\n",
       "      <td>68565.37</td>\n",
       "      <td>2018-05-20</td>\n",
       "      <td>True</td>\n",
       "      <td>Fast Learner</td>\n",
       "    </tr>\n",
       "    <tr>\n",
       "      <th>2</th>\n",
       "      <td>3</td>\n",
       "      <td>Sara</td>\n",
       "      <td>43</td>\n",
       "      <td>Male</td>\n",
       "      <td>100076.38</td>\n",
       "      <td>2023-12-03</td>\n",
       "      <td>False</td>\n",
       "      <td>Fast Learner</td>\n",
       "    </tr>\n",
       "    <tr>\n",
       "      <th>3</th>\n",
       "      <td>4</td>\n",
       "      <td>Rachel</td>\n",
       "      <td>42</td>\n",
       "      <td>Female</td>\n",
       "      <td>43901.70</td>\n",
       "      <td>2016-11-14</td>\n",
       "      <td>False</td>\n",
       "      <td>Creative</td>\n",
       "    </tr>\n",
       "    <tr>\n",
       "      <th>4</th>\n",
       "      <td>5</td>\n",
       "      <td>Rachel</td>\n",
       "      <td>44</td>\n",
       "      <td>Female</td>\n",
       "      <td>76021.57</td>\n",
       "      <td>2018-09-13</td>\n",
       "      <td>False</td>\n",
       "      <td>Team Player</td>\n",
       "    </tr>\n",
       "  </tbody>\n",
       "</table>\n",
       "</div>"
      ],
      "text/plain": [
       "   ID    Name  Age  Gender     Salary Joining Date  Is Active      Comments\n",
       "0   1   Linda   24  Female   87372.00   2021-03-21       True   Team Player\n",
       "1   2    Sara   40    Male   68565.37   2018-05-20       True  Fast Learner\n",
       "2   3    Sara   43    Male  100076.38   2023-12-03      False  Fast Learner\n",
       "3   4  Rachel   42  Female   43901.70   2016-11-14      False      Creative\n",
       "4   5  Rachel   44  Female   76021.57   2018-09-13      False   Team Player"
      ]
     },
     "execution_count": 30,
     "metadata": {},
     "output_type": "execute_result"
    }
   ],
   "source": [
    "# Display the first 5 rows of the dataset\n",
    "df.head()"
   ]
  },
  {
   "cell_type": "code",
   "execution_count": 21,
   "metadata": {},
   "outputs": [
    {
     "data": {
      "text/html": [
       "<div>\n",
       "<style scoped>\n",
       "    .dataframe tbody tr th:only-of-type {\n",
       "        vertical-align: middle;\n",
       "    }\n",
       "\n",
       "    .dataframe tbody tr th {\n",
       "        vertical-align: top;\n",
       "    }\n",
       "\n",
       "    .dataframe thead th {\n",
       "        text-align: right;\n",
       "    }\n",
       "</style>\n",
       "<table border=\"1\" class=\"dataframe\">\n",
       "  <thead>\n",
       "    <tr style=\"text-align: right;\">\n",
       "      <th></th>\n",
       "      <th>ID</th>\n",
       "      <th>Name</th>\n",
       "      <th>Age</th>\n",
       "      <th>Gender</th>\n",
       "      <th>Salary</th>\n",
       "      <th>Joining Date</th>\n",
       "      <th>Is Active</th>\n",
       "      <th>Comments</th>\n",
       "    </tr>\n",
       "  </thead>\n",
       "  <tbody>\n",
       "    <tr>\n",
       "      <th>995</th>\n",
       "      <td>996</td>\n",
       "      <td>Tom</td>\n",
       "      <td>27</td>\n",
       "      <td>Male</td>\n",
       "      <td>79282.25</td>\n",
       "      <td>2018-09-29</td>\n",
       "      <td>False</td>\n",
       "      <td>Dedicated</td>\n",
       "    </tr>\n",
       "    <tr>\n",
       "      <th>996</th>\n",
       "      <td>997</td>\n",
       "      <td>Paul</td>\n",
       "      <td>26</td>\n",
       "      <td>Male</td>\n",
       "      <td>33355.94</td>\n",
       "      <td>2017-10-13</td>\n",
       "      <td>True</td>\n",
       "      <td>Creative</td>\n",
       "    </tr>\n",
       "    <tr>\n",
       "      <th>997</th>\n",
       "      <td>998</td>\n",
       "      <td>Bob</td>\n",
       "      <td>53</td>\n",
       "      <td>Female</td>\n",
       "      <td>71727.28</td>\n",
       "      <td>2019-01-14</td>\n",
       "      <td>True</td>\n",
       "      <td>Creative</td>\n",
       "    </tr>\n",
       "    <tr>\n",
       "      <th>998</th>\n",
       "      <td>999</td>\n",
       "      <td>Paul</td>\n",
       "      <td>47</td>\n",
       "      <td>Female</td>\n",
       "      <td>47286.63</td>\n",
       "      <td>2015-05-15</td>\n",
       "      <td>False</td>\n",
       "      <td>Reliable</td>\n",
       "    </tr>\n",
       "    <tr>\n",
       "      <th>999</th>\n",
       "      <td>1000</td>\n",
       "      <td>Sara</td>\n",
       "      <td>60</td>\n",
       "      <td>Female</td>\n",
       "      <td>77410.69</td>\n",
       "      <td>2023-06-08</td>\n",
       "      <td>False</td>\n",
       "      <td>Fast Learner</td>\n",
       "    </tr>\n",
       "  </tbody>\n",
       "</table>\n",
       "</div>"
      ],
      "text/plain": [
       "       ID  Name  Age  Gender    Salary Joining Date  Is Active      Comments\n",
       "995   996   Tom   27    Male  79282.25   2018-09-29      False     Dedicated\n",
       "996   997  Paul   26    Male  33355.94   2017-10-13       True      Creative\n",
       "997   998   Bob   53  Female  71727.28   2019-01-14       True      Creative\n",
       "998   999  Paul   47  Female  47286.63   2015-05-15      False      Reliable\n",
       "999  1000  Sara   60  Female  77410.69   2023-06-08      False  Fast Learner"
      ]
     },
     "execution_count": 21,
     "metadata": {},
     "output_type": "execute_result"
    }
   ],
   "source": [
    "# Display the last 5 rows of the dataset\n",
    "df.tail()"
   ]
  },
  {
   "cell_type": "code",
   "execution_count": 22,
   "metadata": {},
   "outputs": [
    {
     "name": "stdout",
     "output_type": "stream",
     "text": [
      "<class 'pandas.core.frame.DataFrame'>\n",
      "RangeIndex: 1000 entries, 0 to 999\n",
      "Data columns (total 8 columns):\n",
      " #   Column        Non-Null Count  Dtype  \n",
      "---  ------        --------------  -----  \n",
      " 0   ID            1000 non-null   int64  \n",
      " 1   Name          1000 non-null   object \n",
      " 2   Age           1000 non-null   int64  \n",
      " 3   Gender        1000 non-null   object \n",
      " 4   Salary        1000 non-null   float64\n",
      " 5   Joining Date  1000 non-null   object \n",
      " 6   Is Active     1000 non-null   bool   \n",
      " 7   Comments      1000 non-null   object \n",
      "dtypes: bool(1), float64(1), int64(2), object(4)\n",
      "memory usage: 55.8+ KB\n"
     ]
    }
   ],
   "source": [
    "# Display the basic information about the dataset\n",
    "df.info()"
   ]
  },
  {
   "cell_type": "code",
   "execution_count": 23,
   "metadata": {},
   "outputs": [
    {
     "data": {
      "text/plain": [
       "ID                int64\n",
       "Name             object\n",
       "Age               int64\n",
       "Gender           object\n",
       "Salary          float64\n",
       "Joining Date     object\n",
       "Is Active          bool\n",
       "Comments         object\n",
       "dtype: object"
      ]
     },
     "execution_count": 23,
     "metadata": {},
     "output_type": "execute_result"
    }
   ],
   "source": [
    "df.dtypes"
   ]
  },
  {
   "cell_type": "code",
   "execution_count": 24,
   "metadata": {},
   "outputs": [
    {
     "data": {
      "text/plain": [
       "ID              0\n",
       "Name            0\n",
       "Age             0\n",
       "Gender          0\n",
       "Salary          0\n",
       "Joining Date    0\n",
       "Is Active       0\n",
       "Comments        0\n",
       "dtype: int64"
      ]
     },
     "execution_count": 24,
     "metadata": {},
     "output_type": "execute_result"
    }
   ],
   "source": [
    "# To check for missing values in the dataset\n",
    "df.isnull().sum()"
   ]
  },
  {
   "cell_type": "code",
   "execution_count": 25,
   "metadata": {},
   "outputs": [
    {
     "name": "stdout",
     "output_type": "stream",
     "text": [
      "Missing values have been filed and saved in 'sample_employee_dataset_1000.csv'\n"
     ]
    }
   ],
   "source": [
    "# Handling missing values\n",
    "# If age or Salary is missing, we will fill with middle(median) value\n",
    "df['Age'] = df['Age'].fillna(df['Age'].median())\n",
    "df['Salary'] = df['Salary'].fillna(df['Salary'].median())\n",
    "\n",
    "# If gender or Name is missing, we will fill with maximum(mode) value\n",
    "df[\"Name\"] = df[\"Name\"].fillna(df[\"Name\"].mode()[0])\n",
    "df[\"Gender\"] = df[\"Gender\"].fillna(df[\"Name\"].mode()[0])\n",
    "\n",
    "# if is Active is missing, we will fill with maximum(mode) value\n",
    "df[\"Is Active\"] = df[\"Is Active\"].fillna(df[\"Is Active\"].mode()[0])\n",
    "\n",
    "#if Joining Date is missing, we will fill with earliest(min) date\n",
    "df[\"Joining Date\"] = df[\"Joining Date\"].fillna(df[\"Joining Date\"].min())\n",
    "\n",
    "#If comment is missing, we will fill with unknown\n",
    "df[\"Comments\"] = df[\"Comments\"].fillna(\"Unknown\")\n",
    "\n",
    "\n",
    "print(\"Missing values have been filed and saved in 'sample_employee_dataset_1000.csv'\")\n",
    "# Save the cleaned dataset to a new CSV file    \n"
   ]
  },
  {
   "cell_type": "code",
   "execution_count": 26,
   "metadata": {},
   "outputs": [
    {
     "name": "stdout",
     "output_type": "stream",
     "text": [
      "   ID    Name  Age  Gender     Salary Joining Date  Is Active      Comments\n",
      "0   1   Linda   24       0   87372.00   2021-03-21          1   Team Player\n",
      "1   2    Sara   40       1   68565.37   2018-05-20          1  Fast Learner\n",
      "2   3    Sara   43       1  100076.38   2023-12-03          0  Fast Learner\n",
      "3   4  Rachel   42       0   43901.70   2016-11-14          0      Creative\n",
      "4   5  Rachel   44       0   76021.57   2018-09-13          0   Team Player\n"
     ]
    }
   ],
   "source": [
    "from sklearn.preprocessing import LabelEncoder\n",
    "le = LabelEncoder()\n",
    "df['Gender'] = le.fit_transform(df['Gender'])  #Encode gender column\n",
    "df['Is Active'] = le.fit_transform(df['Is Active'])  #Encode is active column\n",
    "\n",
    "print(df.head()) # shows the first 5 rows of the dataset"
   ]
  },
  {
   "cell_type": "code",
   "execution_count": 27,
   "metadata": {},
   "outputs": [
    {
     "name": "stdout",
     "output_type": "stream",
     "text": [
      " Is Active converted into one hot encoding and saved! \n"
     ]
    }
   ],
   "source": [
    "# Now applying one hot encoding to the categorical columns\n",
    "# Apply pd.get_dummies for one hot encoding\n",
    "encoded_df = pd.get_dummies(df['Is Active'], prefix='Is Active')\n",
    "\n",
    "# concatenate with original dataset and drop old column\n",
    "df = pd.concat([df, encoded_df], axis=1).drop(columns=['Is Active'])\n",
    "\n",
    "df.to_csv(\"sample_employee_dataset_1000_cleaned.csv\", index=False) # Save updated dataset \n",
    "\n",
    "print (\" Is Active converted into one hot encoding and saved! \")"
   ]
  },
  {
   "cell_type": "code",
   "execution_count": 28,
   "metadata": {},
   "outputs": [
    {
     "data": {
      "text/html": [
       "<div>\n",
       "<style scoped>\n",
       "    .dataframe tbody tr th:only-of-type {\n",
       "        vertical-align: middle;\n",
       "    }\n",
       "\n",
       "    .dataframe tbody tr th {\n",
       "        vertical-align: top;\n",
       "    }\n",
       "\n",
       "    .dataframe thead th {\n",
       "        text-align: right;\n",
       "    }\n",
       "</style>\n",
       "<table border=\"1\" class=\"dataframe\">\n",
       "  <thead>\n",
       "    <tr style=\"text-align: right;\">\n",
       "      <th></th>\n",
       "      <th>ID</th>\n",
       "      <th>Name</th>\n",
       "      <th>Age</th>\n",
       "      <th>Gender</th>\n",
       "      <th>Salary</th>\n",
       "      <th>Joining Date</th>\n",
       "      <th>Comments</th>\n",
       "      <th>Is Active_0</th>\n",
       "      <th>Is Active_1</th>\n",
       "    </tr>\n",
       "  </thead>\n",
       "  <tbody>\n",
       "    <tr>\n",
       "      <th>0</th>\n",
       "      <td>1</td>\n",
       "      <td>Linda</td>\n",
       "      <td>24</td>\n",
       "      <td>0</td>\n",
       "      <td>87372.00</td>\n",
       "      <td>2021-03-21</td>\n",
       "      <td>Team Player</td>\n",
       "      <td>False</td>\n",
       "      <td>True</td>\n",
       "    </tr>\n",
       "    <tr>\n",
       "      <th>1</th>\n",
       "      <td>2</td>\n",
       "      <td>Sara</td>\n",
       "      <td>40</td>\n",
       "      <td>1</td>\n",
       "      <td>68565.37</td>\n",
       "      <td>2018-05-20</td>\n",
       "      <td>Fast Learner</td>\n",
       "      <td>False</td>\n",
       "      <td>True</td>\n",
       "    </tr>\n",
       "    <tr>\n",
       "      <th>2</th>\n",
       "      <td>3</td>\n",
       "      <td>Sara</td>\n",
       "      <td>43</td>\n",
       "      <td>1</td>\n",
       "      <td>100076.38</td>\n",
       "      <td>2023-12-03</td>\n",
       "      <td>Fast Learner</td>\n",
       "      <td>True</td>\n",
       "      <td>False</td>\n",
       "    </tr>\n",
       "    <tr>\n",
       "      <th>3</th>\n",
       "      <td>4</td>\n",
       "      <td>Rachel</td>\n",
       "      <td>42</td>\n",
       "      <td>0</td>\n",
       "      <td>43901.70</td>\n",
       "      <td>2016-11-14</td>\n",
       "      <td>Creative</td>\n",
       "      <td>True</td>\n",
       "      <td>False</td>\n",
       "    </tr>\n",
       "    <tr>\n",
       "      <th>4</th>\n",
       "      <td>5</td>\n",
       "      <td>Rachel</td>\n",
       "      <td>44</td>\n",
       "      <td>0</td>\n",
       "      <td>76021.57</td>\n",
       "      <td>2018-09-13</td>\n",
       "      <td>Team Player</td>\n",
       "      <td>True</td>\n",
       "      <td>False</td>\n",
       "    </tr>\n",
       "    <tr>\n",
       "      <th>5</th>\n",
       "      <td>6</td>\n",
       "      <td>Eve</td>\n",
       "      <td>50</td>\n",
       "      <td>0</td>\n",
       "      <td>99939.68</td>\n",
       "      <td>2024-11-01</td>\n",
       "      <td>Fast Learner</td>\n",
       "      <td>False</td>\n",
       "      <td>True</td>\n",
       "    </tr>\n",
       "    <tr>\n",
       "      <th>6</th>\n",
       "      <td>7</td>\n",
       "      <td>Tom</td>\n",
       "      <td>50</td>\n",
       "      <td>1</td>\n",
       "      <td>102299.24</td>\n",
       "      <td>2016-09-08</td>\n",
       "      <td>Fast Learner</td>\n",
       "      <td>True</td>\n",
       "      <td>False</td>\n",
       "    </tr>\n",
       "    <tr>\n",
       "      <th>7</th>\n",
       "      <td>8</td>\n",
       "      <td>Eve</td>\n",
       "      <td>37</td>\n",
       "      <td>1</td>\n",
       "      <td>51058.17</td>\n",
       "      <td>2023-01-13</td>\n",
       "      <td>Reliable</td>\n",
       "      <td>True</td>\n",
       "      <td>False</td>\n",
       "    </tr>\n",
       "    <tr>\n",
       "      <th>8</th>\n",
       "      <td>9</td>\n",
       "      <td>Eve</td>\n",
       "      <td>26</td>\n",
       "      <td>0</td>\n",
       "      <td>52352.11</td>\n",
       "      <td>2024-10-07</td>\n",
       "      <td>Creative</td>\n",
       "      <td>False</td>\n",
       "      <td>True</td>\n",
       "    </tr>\n",
       "    <tr>\n",
       "      <th>9</th>\n",
       "      <td>10</td>\n",
       "      <td>John</td>\n",
       "      <td>35</td>\n",
       "      <td>0</td>\n",
       "      <td>113214.11</td>\n",
       "      <td>2018-08-14</td>\n",
       "      <td>Hardworking</td>\n",
       "      <td>False</td>\n",
       "      <td>True</td>\n",
       "    </tr>\n",
       "  </tbody>\n",
       "</table>\n",
       "</div>"
      ],
      "text/plain": [
       "   ID    Name  Age  Gender     Salary Joining Date      Comments  Is Active_0  \\\n",
       "0   1   Linda   24       0   87372.00   2021-03-21   Team Player        False   \n",
       "1   2    Sara   40       1   68565.37   2018-05-20  Fast Learner        False   \n",
       "2   3    Sara   43       1  100076.38   2023-12-03  Fast Learner         True   \n",
       "3   4  Rachel   42       0   43901.70   2016-11-14      Creative         True   \n",
       "4   5  Rachel   44       0   76021.57   2018-09-13   Team Player         True   \n",
       "5   6     Eve   50       0   99939.68   2024-11-01  Fast Learner        False   \n",
       "6   7     Tom   50       1  102299.24   2016-09-08  Fast Learner         True   \n",
       "7   8     Eve   37       1   51058.17   2023-01-13      Reliable         True   \n",
       "8   9     Eve   26       0   52352.11   2024-10-07      Creative        False   \n",
       "9  10    John   35       0  113214.11   2018-08-14   Hardworking        False   \n",
       "\n",
       "   Is Active_1  \n",
       "0         True  \n",
       "1         True  \n",
       "2        False  \n",
       "3        False  \n",
       "4        False  \n",
       "5         True  \n",
       "6        False  \n",
       "7        False  \n",
       "8         True  \n",
       "9         True  "
      ]
     },
     "execution_count": 28,
     "metadata": {},
     "output_type": "execute_result"
    }
   ],
   "source": [
    "df.head(10)"
   ]
  },
  {
   "cell_type": "markdown",
   "metadata": {},
   "source": [
    "# Lecture 5 "
   ]
  },
  {
   "cell_type": "code",
   "execution_count": 2,
   "metadata": {},
   "outputs": [],
   "source": [
    "# import necessary libraries\n",
    "import pandas as pd\n",
    "from scipy import stats"
   ]
  },
  {
   "cell_type": "code",
   "execution_count": 3,
   "metadata": {},
   "outputs": [],
   "source": [
    "# ignore all warnings, preventing from being displayed during execution\n",
    "# It is commonly used to surpress non critical warnings in jupyter notebooks or scripts\n",
    "from warnings import filterwarnings\n",
    "filterwarnings('ignore')"
   ]
  },
  {
   "cell_type": "markdown",
   "metadata": {},
   "source": [
    "# Easy Guide to Outlier Detection and Data Preparation"
   ]
  },
  {
   "cell_type": "markdown",
   "metadata": {},
   "source": [
    "Outliers are extreme values that can distort data analysis and negatively affect machine learning models. Identifying and addressing them is crucial in data preprocessing.\n",
    "\n",
    "In this notebook, we’ll focus on:\n",
    "\n",
    "1. Cleaning data by removing duplicates and handling missing values.\n",
    "\n",
    "2. Detecting outliers using visualizations and statistical methods.\n",
    "\n",
    "3. Handling outliers by removal or adjustment.\n",
    "\n",
    "4. Scaling and normalizing data for consistency."
   ]
  },
  {
   "cell_type": "markdown",
   "metadata": {},
   "source": [
    "## step 1: Load the Dataset"
   ]
  },
  {
   "cell_type": "markdown",
   "metadata": {},
   "source": [
    " **Here are a few commonly used methods to load datasets into your own notebook and perform data preprocessing in Python**"
   ]
  },
  {
   "cell_type": "markdown",
   "metadata": {},
   "source": [
    "### 1. Load from CSV file"
   ]
  },
  {
   "cell_type": "code",
   "execution_count": 4,
   "metadata": {},
   "outputs": [
    {
     "name": "stdout",
     "output_type": "stream",
     "text": [
      "Dataset loaded successfully!\n"
     ]
    }
   ],
   "source": [
    "# Load the dataset \n",
    "df = pd.read_csv(\"sample_employee_dataset_1000.csv\")\n",
    "print(\"Dataset loaded successfully!\")"
   ]
  },
  {
   "cell_type": "markdown",
   "metadata": {},
   "source": [
    "###  2. Load from Excel file"
   ]
  },
  {
   "cell_type": "code",
   "execution_count": 6,
   "metadata": {},
   "outputs": [
    {
     "name": "stdout",
     "output_type": "stream",
     "text": [
      "Dataset loaded successfully!\n"
     ]
    }
   ],
   "source": [
    "data = pd.read_excel(\"sample_employee_data_1000.xlsx\") # Load the dataset in excel format\n",
    "print(\"Dataset loaded successfully!\")"
   ]
  },
  {
   "cell_type": "markdown",
   "metadata": {},
   "source": [
    "### 3. Load from online URL"
   ]
  },
  {
   "cell_type": "code",
   "execution_count": null,
   "metadata": {},
   "outputs": [],
   "source": [
    "url = 'https://example.com/path_to_file.csv'\n",
    "df = pd.read_csv(url)\n",
    "print(\"Dataset loaded successfully!\")"
   ]
  },
  {
   "cell_type": "markdown",
   "metadata": {},
   "source": [
    "### 4. Load from Google Drive"
   ]
  },
  {
   "cell_type": "code",
   "execution_count": null,
   "metadata": {},
   "outputs": [],
   "source": [
    "from google.colab import drive\n",
    "drive.mount('/content/drive')\n",
    "\n",
    "df = pd.read_csv('/content/drive/MyDrive/your_file.csv')\n",
    "print(\"Dataset loaded successfully!\")"
   ]
  },
  {
   "cell_type": "code",
   "execution_count": null,
   "metadata": {},
   "outputs": [],
   "source": []
  },
  {
   "cell_type": "markdown",
   "metadata": {},
   "source": [
    "### Purpose of `df.head()` in Pandas\n",
    "\n",
    "- **Preview Data**: Quickly view the structure and layout of the dataset.\n",
    "- **Check Columns**: Inspect column names, their order, and get an idea of data types.\n",
    "- **Identify Issues**: Spot missing values, formatting problems, or inconsistent data.\n",
    "- **Debugging**: Verify if the dataset has been loaded correctly.\n"
   ]
  },
  {
   "cell_type": "code",
   "execution_count": 36,
   "metadata": {},
   "outputs": [
    {
     "data": {
      "text/html": [
       "<div>\n",
       "<style scoped>\n",
       "    .dataframe tbody tr th:only-of-type {\n",
       "        vertical-align: middle;\n",
       "    }\n",
       "\n",
       "    .dataframe tbody tr th {\n",
       "        vertical-align: top;\n",
       "    }\n",
       "\n",
       "    .dataframe thead th {\n",
       "        text-align: right;\n",
       "    }\n",
       "</style>\n",
       "<table border=\"1\" class=\"dataframe\">\n",
       "  <thead>\n",
       "    <tr style=\"text-align: right;\">\n",
       "      <th></th>\n",
       "      <th>ID</th>\n",
       "      <th>Name</th>\n",
       "      <th>Age</th>\n",
       "      <th>Gender</th>\n",
       "      <th>Salary</th>\n",
       "      <th>Joining Date</th>\n",
       "      <th>Is Active</th>\n",
       "      <th>Comments</th>\n",
       "    </tr>\n",
       "  </thead>\n",
       "  <tbody>\n",
       "    <tr>\n",
       "      <th>0</th>\n",
       "      <td>1</td>\n",
       "      <td>Linda</td>\n",
       "      <td>24</td>\n",
       "      <td>Female</td>\n",
       "      <td>87372.00</td>\n",
       "      <td>2021-03-21</td>\n",
       "      <td>True</td>\n",
       "      <td>Team Player</td>\n",
       "    </tr>\n",
       "    <tr>\n",
       "      <th>1</th>\n",
       "      <td>2</td>\n",
       "      <td>Sara</td>\n",
       "      <td>40</td>\n",
       "      <td>Male</td>\n",
       "      <td>68565.37</td>\n",
       "      <td>2018-05-20</td>\n",
       "      <td>True</td>\n",
       "      <td>Fast Learner</td>\n",
       "    </tr>\n",
       "    <tr>\n",
       "      <th>2</th>\n",
       "      <td>3</td>\n",
       "      <td>Sara</td>\n",
       "      <td>43</td>\n",
       "      <td>Male</td>\n",
       "      <td>100076.38</td>\n",
       "      <td>2023-12-03</td>\n",
       "      <td>False</td>\n",
       "      <td>Fast Learner</td>\n",
       "    </tr>\n",
       "    <tr>\n",
       "      <th>3</th>\n",
       "      <td>4</td>\n",
       "      <td>Rachel</td>\n",
       "      <td>42</td>\n",
       "      <td>Female</td>\n",
       "      <td>43901.70</td>\n",
       "      <td>2016-11-14</td>\n",
       "      <td>False</td>\n",
       "      <td>Creative</td>\n",
       "    </tr>\n",
       "    <tr>\n",
       "      <th>4</th>\n",
       "      <td>5</td>\n",
       "      <td>Rachel</td>\n",
       "      <td>44</td>\n",
       "      <td>Female</td>\n",
       "      <td>76021.57</td>\n",
       "      <td>2018-09-13</td>\n",
       "      <td>False</td>\n",
       "      <td>Team Player</td>\n",
       "    </tr>\n",
       "    <tr>\n",
       "      <th>5</th>\n",
       "      <td>6</td>\n",
       "      <td>Eve</td>\n",
       "      <td>50</td>\n",
       "      <td>Female</td>\n",
       "      <td>99939.68</td>\n",
       "      <td>2024-11-01</td>\n",
       "      <td>True</td>\n",
       "      <td>Fast Learner</td>\n",
       "    </tr>\n",
       "    <tr>\n",
       "      <th>6</th>\n",
       "      <td>7</td>\n",
       "      <td>Tom</td>\n",
       "      <td>50</td>\n",
       "      <td>Male</td>\n",
       "      <td>102299.24</td>\n",
       "      <td>2016-09-08</td>\n",
       "      <td>False</td>\n",
       "      <td>Fast Learner</td>\n",
       "    </tr>\n",
       "    <tr>\n",
       "      <th>7</th>\n",
       "      <td>8</td>\n",
       "      <td>Eve</td>\n",
       "      <td>37</td>\n",
       "      <td>Male</td>\n",
       "      <td>51058.17</td>\n",
       "      <td>2023-01-13</td>\n",
       "      <td>False</td>\n",
       "      <td>Reliable</td>\n",
       "    </tr>\n",
       "    <tr>\n",
       "      <th>8</th>\n",
       "      <td>9</td>\n",
       "      <td>Eve</td>\n",
       "      <td>26</td>\n",
       "      <td>Female</td>\n",
       "      <td>52352.11</td>\n",
       "      <td>2024-10-07</td>\n",
       "      <td>True</td>\n",
       "      <td>Creative</td>\n",
       "    </tr>\n",
       "    <tr>\n",
       "      <th>9</th>\n",
       "      <td>10</td>\n",
       "      <td>John</td>\n",
       "      <td>35</td>\n",
       "      <td>Female</td>\n",
       "      <td>113214.11</td>\n",
       "      <td>2018-08-14</td>\n",
       "      <td>True</td>\n",
       "      <td>Hardworking</td>\n",
       "    </tr>\n",
       "  </tbody>\n",
       "</table>\n",
       "</div>"
      ],
      "text/plain": [
       "   ID    Name  Age  Gender     Salary Joining Date  Is Active      Comments\n",
       "0   1   Linda   24  Female   87372.00   2021-03-21       True   Team Player\n",
       "1   2    Sara   40    Male   68565.37   2018-05-20       True  Fast Learner\n",
       "2   3    Sara   43    Male  100076.38   2023-12-03      False  Fast Learner\n",
       "3   4  Rachel   42  Female   43901.70   2016-11-14      False      Creative\n",
       "4   5  Rachel   44  Female   76021.57   2018-09-13      False   Team Player\n",
       "5   6     Eve   50  Female   99939.68   2024-11-01       True  Fast Learner\n",
       "6   7     Tom   50    Male  102299.24   2016-09-08      False  Fast Learner\n",
       "7   8     Eve   37    Male   51058.17   2023-01-13      False      Reliable\n",
       "8   9     Eve   26  Female   52352.11   2024-10-07       True      Creative\n",
       "9  10    John   35  Female  113214.11   2018-08-14       True   Hardworking"
      ]
     },
     "execution_count": 36,
     "metadata": {},
     "output_type": "execute_result"
    }
   ],
   "source": [
    "df.head(10) # Display the first 10 rows of the dataset"
   ]
  },
  {
   "cell_type": "markdown",
   "metadata": {},
   "source": [
    "### Purpose of `df.dtypes` in Pandas\n",
    "\n",
    "- **Check Data Types**: Displays the data type of each column in the DataFrame.\n",
    "- **Data Understanding**: Helps understand what kind of data each column holds (e.g., `int64`, `float64`, `object`).\n",
    "- **Preprocessing Help**: Useful in deciding whether encoding, conversion, or scaling is needed.\n",
    "- **Debugging**: Detect incorrect data types that might affect analysis or model training.\n"
   ]
  },
  {
   "cell_type": "code",
   "execution_count": 39,
   "metadata": {},
   "outputs": [
    {
     "data": {
      "text/plain": [
       "ID                int64\n",
       "Name             object\n",
       "Age               int64\n",
       "Gender           object\n",
       "Salary          float64\n",
       "Joining Date     object\n",
       "Is Active          bool\n",
       "Comments         object\n",
       "dtype: object"
      ]
     },
     "execution_count": 39,
     "metadata": {},
     "output_type": "execute_result"
    }
   ],
   "source": [
    "df.dtypes # Display the data types of each column"
   ]
  },
  {
   "cell_type": "markdown",
   "metadata": {},
   "source": [
    "## Step 2: Remove Duplicate Rows"
   ]
  },
  {
   "cell_type": "markdown",
   "metadata": {},
   "source": [
    "### Why Do We Remove Duplicate Rows in a Dataset?\n",
    "\n",
    "- **Ensure Data Quality**: Duplicate rows can introduce bias and reduce the accuracy of analysis or model performance.\n",
    "- **Avoid Redundancy**: Reduces repetition in data, making it cleaner and easier to work with.\n",
    "- **Improve Performance**: Smaller, duplicate-free datasets are faster to process and analyze.\n",
    "- **Accurate Results**: Prevents skewed results in statistical analysis or machine learning training.\n",
    "- **Maintain Uniqueness**: In cases like user IDs or transaction records, duplicates can cause serious logic issues.\n"
   ]
  },
  {
   "cell_type": "code",
   "execution_count": 40,
   "metadata": {},
   "outputs": [
    {
     "data": {
      "text/html": [
       "<div>\n",
       "<style scoped>\n",
       "    .dataframe tbody tr th:only-of-type {\n",
       "        vertical-align: middle;\n",
       "    }\n",
       "\n",
       "    .dataframe tbody tr th {\n",
       "        vertical-align: top;\n",
       "    }\n",
       "\n",
       "    .dataframe thead th {\n",
       "        text-align: right;\n",
       "    }\n",
       "</style>\n",
       "<table border=\"1\" class=\"dataframe\">\n",
       "  <thead>\n",
       "    <tr style=\"text-align: right;\">\n",
       "      <th></th>\n",
       "      <th>ID</th>\n",
       "      <th>Name</th>\n",
       "      <th>Age</th>\n",
       "      <th>Gender</th>\n",
       "      <th>Salary</th>\n",
       "      <th>Joining Date</th>\n",
       "      <th>Is Active</th>\n",
       "      <th>Comments</th>\n",
       "    </tr>\n",
       "  </thead>\n",
       "  <tbody>\n",
       "    <tr>\n",
       "      <th>0</th>\n",
       "      <td>1</td>\n",
       "      <td>Linda</td>\n",
       "      <td>24</td>\n",
       "      <td>Female</td>\n",
       "      <td>87372.00</td>\n",
       "      <td>2021-03-21</td>\n",
       "      <td>True</td>\n",
       "      <td>Team Player</td>\n",
       "    </tr>\n",
       "    <tr>\n",
       "      <th>1</th>\n",
       "      <td>2</td>\n",
       "      <td>Sara</td>\n",
       "      <td>40</td>\n",
       "      <td>Male</td>\n",
       "      <td>68565.37</td>\n",
       "      <td>2018-05-20</td>\n",
       "      <td>True</td>\n",
       "      <td>Fast Learner</td>\n",
       "    </tr>\n",
       "    <tr>\n",
       "      <th>2</th>\n",
       "      <td>3</td>\n",
       "      <td>Sara</td>\n",
       "      <td>43</td>\n",
       "      <td>Male</td>\n",
       "      <td>100076.38</td>\n",
       "      <td>2023-12-03</td>\n",
       "      <td>False</td>\n",
       "      <td>Fast Learner</td>\n",
       "    </tr>\n",
       "    <tr>\n",
       "      <th>3</th>\n",
       "      <td>4</td>\n",
       "      <td>Rachel</td>\n",
       "      <td>42</td>\n",
       "      <td>Female</td>\n",
       "      <td>43901.70</td>\n",
       "      <td>2016-11-14</td>\n",
       "      <td>False</td>\n",
       "      <td>Creative</td>\n",
       "    </tr>\n",
       "    <tr>\n",
       "      <th>4</th>\n",
       "      <td>5</td>\n",
       "      <td>Rachel</td>\n",
       "      <td>44</td>\n",
       "      <td>Female</td>\n",
       "      <td>76021.57</td>\n",
       "      <td>2018-09-13</td>\n",
       "      <td>False</td>\n",
       "      <td>Team Player</td>\n",
       "    </tr>\n",
       "  </tbody>\n",
       "</table>\n",
       "</div>"
      ],
      "text/plain": [
       "   ID    Name  Age  Gender     Salary Joining Date  Is Active      Comments\n",
       "0   1   Linda   24  Female   87372.00   2021-03-21       True   Team Player\n",
       "1   2    Sara   40    Male   68565.37   2018-05-20       True  Fast Learner\n",
       "2   3    Sara   43    Male  100076.38   2023-12-03      False  Fast Learner\n",
       "3   4  Rachel   42  Female   43901.70   2016-11-14      False      Creative\n",
       "4   5  Rachel   44  Female   76021.57   2018-09-13      False   Team Player"
      ]
     },
     "execution_count": 40,
     "metadata": {},
     "output_type": "execute_result"
    }
   ],
   "source": [
    "# Remove the duplicate rows\n",
    "df_cleaned = df.drop_duplicates()\n",
    "\n",
    "# Display the cleaned Datasets\n",
    "df_cleaned.head()"
   ]
  },
  {
   "cell_type": "markdown",
   "metadata": {},
   "source": [
    "## Step 3:  Handle Missing Values"
   ]
  },
  {
   "cell_type": "markdown",
   "metadata": {},
   "source": [
    "### Why Do We Handle Missing Values in a Dataset?\n",
    "\n",
    "- **Improve Model Accuracy**: Machine learning algorithms cannot work well with missing data — it can reduce performance or cause errors.\n",
    "- **Prevent Bias**: Ignoring missing values may lead to biased results or incorrect conclusions.\n",
    "- **Ensure Consistency**: Cleaning missing values helps maintain a consistent dataset for analysis.\n",
    "- **Avoid Runtime Errors**: Some tools or functions may break if missing values are not handled properly.\n",
    "- **Better Decision Making**: A complete dataset provides a clearer picture for drawing insights and making predictions.\n"
   ]
  },
  {
   "cell_type": "code",
   "execution_count": 41,
   "metadata": {},
   "outputs": [
    {
     "data": {
      "text/plain": [
       "ID              0\n",
       "Name            0\n",
       "Age             0\n",
       "Gender          0\n",
       "Salary          0\n",
       "Joining Date    0\n",
       "Is Active       0\n",
       "Comments        0\n",
       "dtype: int64"
      ]
     },
     "execution_count": 41,
     "metadata": {},
     "output_type": "execute_result"
    }
   ],
   "source": [
    "#Check for missing values\n",
    "df_cleaned.isnull().sum()\n",
    "\n",
    "#This dataset has no current missing value"
   ]
  },
  {
   "cell_type": "code",
   "execution_count": 42,
   "metadata": {},
   "outputs": [
    {
     "data": {
      "text/plain": [
       "ID              0\n",
       "Name            0\n",
       "Age             0\n",
       "Gender          0\n",
       "Salary          0\n",
       "Joining Date    0\n",
       "Is Active       0\n",
       "Comments        0\n",
       "dtype: int64"
      ]
     },
     "execution_count": 42,
     "metadata": {},
     "output_type": "execute_result"
    }
   ],
   "source": [
    "# if we have missing values then we fill missing values column with mean\n",
    "# inpalace = True modifies the dataframe directly without creating a new copy\n",
    "# In this code, it fill missing values in age column with column mean and updates df_cleaned updates\n",
    "df_cleaned['Age'].fillna(df_cleaned['Age'].mean(),inplace =True)\n",
    "df_cleaned['Salary'].fillna(df_cleaned['Salary'].mean(),inplace=True)\n",
    "\n",
    "# Now check again for missing values\n",
    "df_cleaned.isnull().sum()"
   ]
  },
  {
   "cell_type": "markdown",
   "metadata": {},
   "source": [
    "## Step 4: Normalize and Scale the Data\n",
    "\n",
    "In data preprocessing, **Normalization** and **Scaling** are key techniques to ensure that numerical features are on a similar scale, which can improve the performance of machine learning models, particularly those that rely on distance metrics or assume normally distributed data.\n",
    "\n",
    "- **Normalization** transforms features to fall within a specific range, often between 0 and 1. This ensures that all features contribute equally to the model’s performance. We’ll use `MinMaxScaler` to perform this transformation on our data.\n",
    "\n",
    "- **Scaling** refers to adjusting the values of numeric columns so that they fit within a particular range or distribution. A common method is to scale the data so that it has a **mean of 0** and a **standard deviation of 1** (this is called **standardization**). In other cases, scaling can bring the data into a specific range, like **0 to 1** (this is often done with `MinMaxScaler`).\n",
    "\n",
    "In this step, we’ll apply `MinMaxScaler` to scale the data between 0 and 1, bringing all numerical features to a common range to improve model efficiency and accuracy.\n"
   ]
  },
  {
   "cell_type": "code",
   "execution_count": 43,
   "metadata": {},
   "outputs": [
    {
     "data": {
      "text/html": [
       "<div>\n",
       "<style scoped>\n",
       "    .dataframe tbody tr th:only-of-type {\n",
       "        vertical-align: middle;\n",
       "    }\n",
       "\n",
       "    .dataframe tbody tr th {\n",
       "        vertical-align: top;\n",
       "    }\n",
       "\n",
       "    .dataframe thead th {\n",
       "        text-align: right;\n",
       "    }\n",
       "</style>\n",
       "<table border=\"1\" class=\"dataframe\">\n",
       "  <thead>\n",
       "    <tr style=\"text-align: right;\">\n",
       "      <th></th>\n",
       "      <th>Age</th>\n",
       "      <th>Salary</th>\n",
       "    </tr>\n",
       "  </thead>\n",
       "  <tbody>\n",
       "    <tr>\n",
       "      <th>0</th>\n",
       "      <td>0.052632</td>\n",
       "      <td>0.637778</td>\n",
       "    </tr>\n",
       "    <tr>\n",
       "      <th>1</th>\n",
       "      <td>0.473684</td>\n",
       "      <td>0.428458</td>\n",
       "    </tr>\n",
       "    <tr>\n",
       "      <th>2</th>\n",
       "      <td>0.552632</td>\n",
       "      <td>0.779179</td>\n",
       "    </tr>\n",
       "    <tr>\n",
       "      <th>3</th>\n",
       "      <td>0.526316</td>\n",
       "      <td>0.153948</td>\n",
       "    </tr>\n",
       "    <tr>\n",
       "      <th>4</th>\n",
       "      <td>0.578947</td>\n",
       "      <td>0.511446</td>\n",
       "    </tr>\n",
       "  </tbody>\n",
       "</table>\n",
       "</div>"
      ],
      "text/plain": [
       "        Age    Salary\n",
       "0  0.052632  0.637778\n",
       "1  0.473684  0.428458\n",
       "2  0.552632  0.779179\n",
       "3  0.526316  0.153948\n",
       "4  0.578947  0.511446"
      ]
     },
     "execution_count": 43,
     "metadata": {},
     "output_type": "execute_result"
    }
   ],
   "source": [
    "from sklearn.preprocessing import MinMaxScaler\n",
    "\n",
    "# Initialize the Scalar\n",
    "scaler = MinMaxScaler()\n",
    "\n",
    "# Apply Min-Max Scaling to 'Age' and 'Salary'\n",
    "df_cleaned[['Age','Salary']] = scaler.fit_transform(df_cleaned[['Age','Salary']])\n",
    "\n",
    "# Show Scaled data\n",
    "df_cleaned[['Age','Salary']].head()"
   ]
  },
  {
   "cell_type": "markdown",
   "metadata": {},
   "source": [
    "## Scaling"
   ]
  },
  {
   "cell_type": "code",
   "execution_count": 44,
   "metadata": {},
   "outputs": [
    {
     "data": {
      "text/html": [
       "<div>\n",
       "<style scoped>\n",
       "    .dataframe tbody tr th:only-of-type {\n",
       "        vertical-align: middle;\n",
       "    }\n",
       "\n",
       "    .dataframe tbody tr th {\n",
       "        vertical-align: top;\n",
       "    }\n",
       "\n",
       "    .dataframe thead th {\n",
       "        text-align: right;\n",
       "    }\n",
       "</style>\n",
       "<table border=\"1\" class=\"dataframe\">\n",
       "  <thead>\n",
       "    <tr style=\"text-align: right;\">\n",
       "      <th></th>\n",
       "      <th>Age</th>\n",
       "      <th>Salary</th>\n",
       "    </tr>\n",
       "  </thead>\n",
       "  <tbody>\n",
       "    <tr>\n",
       "      <th>0</th>\n",
       "      <td>-1.564514</td>\n",
       "      <td>0.428272</td>\n",
       "    </tr>\n",
       "    <tr>\n",
       "      <th>1</th>\n",
       "      <td>-0.121735</td>\n",
       "      <td>-0.294284</td>\n",
       "    </tr>\n",
       "    <tr>\n",
       "      <th>2</th>\n",
       "      <td>0.148787</td>\n",
       "      <td>0.916378</td>\n",
       "    </tr>\n",
       "    <tr>\n",
       "      <th>3</th>\n",
       "      <td>0.058613</td>\n",
       "      <td>-1.241869</td>\n",
       "    </tr>\n",
       "    <tr>\n",
       "      <th>4</th>\n",
       "      <td>0.238960</td>\n",
       "      <td>-0.007814</td>\n",
       "    </tr>\n",
       "  </tbody>\n",
       "</table>\n",
       "</div>"
      ],
      "text/plain": [
       "        Age    Salary\n",
       "0 -1.564514  0.428272\n",
       "1 -0.121735 -0.294284\n",
       "2  0.148787  0.916378\n",
       "3  0.058613 -1.241869\n",
       "4  0.238960 -0.007814"
      ]
     },
     "execution_count": 44,
     "metadata": {},
     "output_type": "execute_result"
    }
   ],
   "source": [
    "# This scales the values to have mean = 0 and standard deviation = 1 for better distribution.\n",
    "from sklearn.preprocessing import StandardScaler\n",
    "\n",
    "# initialize the scaler\n",
    "scaler = StandardScaler()\n",
    "\n",
    "# Apply normalization\n",
    "df_cleaned[['Age','Salary']] = scaler.fit_transform(df_cleaned[['Age','Salary']])\n",
    "\n",
    "# Show normalized data\n",
    "df_cleaned[['Age','Salary']].head()"
   ]
  },
  {
   "cell_type": "markdown",
   "metadata": {},
   "source": [
    "# Step 8: Encode Categorical Variables (Optional)\n",
    "\n",
    "In machine learning, most algorithms require **numerical inputs** to perform computations. Categorical variables, such as 'Gender', 'Color', or 'Country', are typically non-numeric and need to be converted into a format that machine learning models can process. This process is known as **encoding**.\n",
    "\n",
    "In this step, we’ll use **Label Encoding** to convert categorical variables into numeric form. Label Encoding assigns a unique integer to each category in a feature. For example, the ‘Gender’ column with values like ‘Male’ and ‘Female’ can be encoded as 0 and 1, respectively. This allows the model to handle the data more effectively.\n",
    "\n",
    "- **Label Encoding**: This method is appropriate when the categorical variables have an inherent order (ordinal). For non-ordinal variables, encoding could introduce an unintended hierarchy. If the variable is nominal (like 'Gender'), you can consider alternatives like **One-Hot Encoding**, which avoids such issues by representing each category as a separate binary feature.\n",
    "\n",
    "In this case, we’ll apply Label Encoding to transform the 'Gender' variable into numerical format."
   ]
  },
  {
   "cell_type": "code",
   "execution_count": 45,
   "metadata": {},
   "outputs": [
    {
     "data": {
      "text/html": [
       "<div>\n",
       "<style scoped>\n",
       "    .dataframe tbody tr th:only-of-type {\n",
       "        vertical-align: middle;\n",
       "    }\n",
       "\n",
       "    .dataframe tbody tr th {\n",
       "        vertical-align: top;\n",
       "    }\n",
       "\n",
       "    .dataframe thead th {\n",
       "        text-align: right;\n",
       "    }\n",
       "</style>\n",
       "<table border=\"1\" class=\"dataframe\">\n",
       "  <thead>\n",
       "    <tr style=\"text-align: right;\">\n",
       "      <th></th>\n",
       "      <th>Gender</th>\n",
       "      <th>Gender_Encoded</th>\n",
       "    </tr>\n",
       "  </thead>\n",
       "  <tbody>\n",
       "    <tr>\n",
       "      <th>0</th>\n",
       "      <td>Female</td>\n",
       "      <td>0</td>\n",
       "    </tr>\n",
       "    <tr>\n",
       "      <th>1</th>\n",
       "      <td>Male</td>\n",
       "      <td>1</td>\n",
       "    </tr>\n",
       "    <tr>\n",
       "      <th>2</th>\n",
       "      <td>Male</td>\n",
       "      <td>1</td>\n",
       "    </tr>\n",
       "    <tr>\n",
       "      <th>3</th>\n",
       "      <td>Female</td>\n",
       "      <td>0</td>\n",
       "    </tr>\n",
       "    <tr>\n",
       "      <th>4</th>\n",
       "      <td>Female</td>\n",
       "      <td>0</td>\n",
       "    </tr>\n",
       "  </tbody>\n",
       "</table>\n",
       "</div>"
      ],
      "text/plain": [
       "   Gender  Gender_Encoded\n",
       "0  Female               0\n",
       "1    Male               1\n",
       "2    Male               1\n",
       "3  Female               0\n",
       "4  Female               0"
      ]
     },
     "execution_count": 45,
     "metadata": {},
     "output_type": "execute_result"
    }
   ],
   "source": [
    "from sklearn.preprocessing import LabelEncoder\n",
    "\n",
    "# Encode gender column\n",
    "le = LabelEncoder()\n",
    "df_cleaned['Gender_Encoded'] = le.fit_transform(df_cleaned['Gender'])\n",
    "\n",
    "# Display Encoded gender column\n",
    "df_cleaned[['Gender','Gender_Encoded']].head()"
   ]
  },
  {
   "cell_type": "markdown",
   "metadata": {},
   "source": [
    "## One-Hot Encoding"
   ]
  },
  {
   "cell_type": "code",
   "execution_count": 46,
   "metadata": {},
   "outputs": [
    {
     "name": "stdout",
     "output_type": "stream",
     "text": [
      "   ID       Age    Salary  Is Active  Gender_Encoded  Name_Bob  Name_Eve  \\\n",
      "0   1 -1.564514  0.428272       True               0     False     False   \n",
      "1   2 -0.121735 -0.294284       True               1     False     False   \n",
      "2   3  0.148787  0.916378      False               1     False     False   \n",
      "3   4  0.058613 -1.241869      False               0     False     False   \n",
      "4   5  0.238960 -0.007814      False               0     False     False   \n",
      "\n",
      "   Name_John  Name_Linda  Name_Paul  ...  Joining Date_2024-12-12  \\\n",
      "0      False        True      False  ...                    False   \n",
      "1      False       False      False  ...                    False   \n",
      "2      False       False      False  ...                    False   \n",
      "3      False       False      False  ...                    False   \n",
      "4      False       False      False  ...                    False   \n",
      "\n",
      "   Joining Date_2024-12-17  Joining Date_2024-12-23  Joining Date_2024-12-28  \\\n",
      "0                    False                    False                    False   \n",
      "1                    False                    False                    False   \n",
      "2                    False                    False                    False   \n",
      "3                    False                    False                    False   \n",
      "4                    False                    False                    False   \n",
      "\n",
      "   Comments_Dedicated  Comments_Fast Learner  Comments_Hardworking  \\\n",
      "0               False                  False                 False   \n",
      "1               False                   True                 False   \n",
      "2               False                   True                 False   \n",
      "3               False                  False                 False   \n",
      "4               False                  False                 False   \n",
      "\n",
      "   Comments_Needs Improvement  Comments_Reliable  Comments_Team Player  \n",
      "0                       False              False                  True  \n",
      "1                       False              False                 False  \n",
      "2                       False              False                 False  \n",
      "3                       False              False                 False  \n",
      "4                       False              False                  True  \n",
      "\n",
      "[5 rows x 886 columns]\n"
     ]
    }
   ],
   "source": [
    "import pandas as pd\n",
    "# Apply one hot encoding to all categorical columns\n",
    "df_cleaned = pd.get_dummies(df_cleaned, drop_first=True)\n",
    "\n",
    "# Display updated dataFrame\n",
    "print(df_cleaned.head())"
   ]
  },
  {
   "cell_type": "markdown",
   "metadata": {},
   "source": [
    "# Step 6: Detect Outliers Using Z-Score Method\n",
    "\n",
    "The **Z-score method** helps us find outliers by measuring how far each value is from the average (mean) in terms of standard deviations. A Z-score tells us how many standard deviations a value is away from the mean.\n",
    "\n",
    "- If a Z-score is greater than **3**, the value is considered an **outlier** because it's far from the mean.\n",
    "\n",
    "In this step, we’ll use the Z-score method to identify which data points are unusually far from the average and might be outliers."
   ]
  },
  {
   "cell_type": "code",
   "execution_count": 47,
   "metadata": {},
   "outputs": [
    {
     "data": {
      "text/html": [
       "<div>\n",
       "<style scoped>\n",
       "    .dataframe tbody tr th:only-of-type {\n",
       "        vertical-align: middle;\n",
       "    }\n",
       "\n",
       "    .dataframe tbody tr th {\n",
       "        vertical-align: top;\n",
       "    }\n",
       "\n",
       "    .dataframe thead th {\n",
       "        text-align: right;\n",
       "    }\n",
       "</style>\n",
       "<table border=\"1\" class=\"dataframe\">\n",
       "  <thead>\n",
       "    <tr style=\"text-align: right;\">\n",
       "      <th></th>\n",
       "      <th>ID</th>\n",
       "      <th>Age</th>\n",
       "      <th>Salary</th>\n",
       "      <th>Is Active</th>\n",
       "      <th>Gender_Encoded</th>\n",
       "      <th>Name_Bob</th>\n",
       "      <th>Name_Eve</th>\n",
       "      <th>Name_John</th>\n",
       "      <th>Name_Linda</th>\n",
       "      <th>Name_Paul</th>\n",
       "      <th>...</th>\n",
       "      <th>Joining Date_2024-12-12</th>\n",
       "      <th>Joining Date_2024-12-17</th>\n",
       "      <th>Joining Date_2024-12-23</th>\n",
       "      <th>Joining Date_2024-12-28</th>\n",
       "      <th>Comments_Dedicated</th>\n",
       "      <th>Comments_Fast Learner</th>\n",
       "      <th>Comments_Hardworking</th>\n",
       "      <th>Comments_Needs Improvement</th>\n",
       "      <th>Comments_Reliable</th>\n",
       "      <th>Comments_Team Player</th>\n",
       "    </tr>\n",
       "  </thead>\n",
       "  <tbody>\n",
       "    <tr>\n",
       "      <th>0</th>\n",
       "      <td>1</td>\n",
       "      <td>-1.564514</td>\n",
       "      <td>0.428272</td>\n",
       "      <td>True</td>\n",
       "      <td>0</td>\n",
       "      <td>False</td>\n",
       "      <td>False</td>\n",
       "      <td>False</td>\n",
       "      <td>True</td>\n",
       "      <td>False</td>\n",
       "      <td>...</td>\n",
       "      <td>False</td>\n",
       "      <td>False</td>\n",
       "      <td>False</td>\n",
       "      <td>False</td>\n",
       "      <td>False</td>\n",
       "      <td>False</td>\n",
       "      <td>False</td>\n",
       "      <td>False</td>\n",
       "      <td>False</td>\n",
       "      <td>True</td>\n",
       "    </tr>\n",
       "    <tr>\n",
       "      <th>1</th>\n",
       "      <td>2</td>\n",
       "      <td>-0.121735</td>\n",
       "      <td>-0.294284</td>\n",
       "      <td>True</td>\n",
       "      <td>1</td>\n",
       "      <td>False</td>\n",
       "      <td>False</td>\n",
       "      <td>False</td>\n",
       "      <td>False</td>\n",
       "      <td>False</td>\n",
       "      <td>...</td>\n",
       "      <td>False</td>\n",
       "      <td>False</td>\n",
       "      <td>False</td>\n",
       "      <td>False</td>\n",
       "      <td>False</td>\n",
       "      <td>True</td>\n",
       "      <td>False</td>\n",
       "      <td>False</td>\n",
       "      <td>False</td>\n",
       "      <td>False</td>\n",
       "    </tr>\n",
       "    <tr>\n",
       "      <th>2</th>\n",
       "      <td>3</td>\n",
       "      <td>0.148787</td>\n",
       "      <td>0.916378</td>\n",
       "      <td>False</td>\n",
       "      <td>1</td>\n",
       "      <td>False</td>\n",
       "      <td>False</td>\n",
       "      <td>False</td>\n",
       "      <td>False</td>\n",
       "      <td>False</td>\n",
       "      <td>...</td>\n",
       "      <td>False</td>\n",
       "      <td>False</td>\n",
       "      <td>False</td>\n",
       "      <td>False</td>\n",
       "      <td>False</td>\n",
       "      <td>True</td>\n",
       "      <td>False</td>\n",
       "      <td>False</td>\n",
       "      <td>False</td>\n",
       "      <td>False</td>\n",
       "    </tr>\n",
       "    <tr>\n",
       "      <th>3</th>\n",
       "      <td>4</td>\n",
       "      <td>0.058613</td>\n",
       "      <td>-1.241869</td>\n",
       "      <td>False</td>\n",
       "      <td>0</td>\n",
       "      <td>False</td>\n",
       "      <td>False</td>\n",
       "      <td>False</td>\n",
       "      <td>False</td>\n",
       "      <td>False</td>\n",
       "      <td>...</td>\n",
       "      <td>False</td>\n",
       "      <td>False</td>\n",
       "      <td>False</td>\n",
       "      <td>False</td>\n",
       "      <td>False</td>\n",
       "      <td>False</td>\n",
       "      <td>False</td>\n",
       "      <td>False</td>\n",
       "      <td>False</td>\n",
       "      <td>False</td>\n",
       "    </tr>\n",
       "    <tr>\n",
       "      <th>4</th>\n",
       "      <td>5</td>\n",
       "      <td>0.238960</td>\n",
       "      <td>-0.007814</td>\n",
       "      <td>False</td>\n",
       "      <td>0</td>\n",
       "      <td>False</td>\n",
       "      <td>False</td>\n",
       "      <td>False</td>\n",
       "      <td>False</td>\n",
       "      <td>False</td>\n",
       "      <td>...</td>\n",
       "      <td>False</td>\n",
       "      <td>False</td>\n",
       "      <td>False</td>\n",
       "      <td>False</td>\n",
       "      <td>False</td>\n",
       "      <td>False</td>\n",
       "      <td>False</td>\n",
       "      <td>False</td>\n",
       "      <td>False</td>\n",
       "      <td>True</td>\n",
       "    </tr>\n",
       "  </tbody>\n",
       "</table>\n",
       "<p>5 rows × 886 columns</p>\n",
       "</div>"
      ],
      "text/plain": [
       "   ID       Age    Salary  Is Active  Gender_Encoded  Name_Bob  Name_Eve  \\\n",
       "0   1 -1.564514  0.428272       True               0     False     False   \n",
       "1   2 -0.121735 -0.294284       True               1     False     False   \n",
       "2   3  0.148787  0.916378      False               1     False     False   \n",
       "3   4  0.058613 -1.241869      False               0     False     False   \n",
       "4   5  0.238960 -0.007814      False               0     False     False   \n",
       "\n",
       "   Name_John  Name_Linda  Name_Paul  ...  Joining Date_2024-12-12  \\\n",
       "0      False        True      False  ...                    False   \n",
       "1      False       False      False  ...                    False   \n",
       "2      False       False      False  ...                    False   \n",
       "3      False       False      False  ...                    False   \n",
       "4      False       False      False  ...                    False   \n",
       "\n",
       "   Joining Date_2024-12-17  Joining Date_2024-12-23  Joining Date_2024-12-28  \\\n",
       "0                    False                    False                    False   \n",
       "1                    False                    False                    False   \n",
       "2                    False                    False                    False   \n",
       "3                    False                    False                    False   \n",
       "4                    False                    False                    False   \n",
       "\n",
       "   Comments_Dedicated  Comments_Fast Learner  Comments_Hardworking  \\\n",
       "0               False                  False                 False   \n",
       "1               False                   True                 False   \n",
       "2               False                   True                 False   \n",
       "3               False                  False                 False   \n",
       "4               False                  False                 False   \n",
       "\n",
       "   Comments_Needs Improvement  Comments_Reliable  Comments_Team Player  \n",
       "0                       False              False                  True  \n",
       "1                       False              False                 False  \n",
       "2                       False              False                 False  \n",
       "3                       False              False                 False  \n",
       "4                       False              False                  True  \n",
       "\n",
       "[5 rows x 886 columns]"
      ]
     },
     "execution_count": 47,
     "metadata": {},
     "output_type": "execute_result"
    }
   ],
   "source": [
    "# Import required libraries\n",
    "from scipy.stats import zscore\n",
    "import numpy as np\n",
    "\n",
    "# Calculate Z-scores for 'Age' and 'Salary'\n",
    "z_scores = np.abs(zscore(df_cleaned[['Age', 'Salary']]))\n",
    "\n",
    "# Identify rows with Z-scores > 3 (outliers)\n",
    "outliers = (z_scores > 3).any(axis=1)\n",
    "\n",
    "# Remove the outliers from the datasest\n",
    "df_no_outliers = df_cleaned[~outliers]\n",
    "\n",
    "# Display cleaned dataset without outliers\n",
    "df_no_outliers.head()"
   ]
  },
  {
   "cell_type": "markdown",
   "metadata": {},
   "source": [
    "# Final Thoughts\n",
    "- Remove duplicates\n",
    "- Handle missing Values\n",
    "- Normalize and Scale Numerical data\n",
    "- Detect and Remove outliers using visualization and Z-score methods\n",
    "- Encode Categorical variables for machine learning\n",
    "\n",
    "These preprocessing steps are essential for ensuring clean and reliable for analysis or modeling!"
   ]
  },
  {
   "cell_type": "code",
   "execution_count": null,
   "metadata": {},
   "outputs": [],
   "source": []
  },
  {
   "cell_type": "markdown",
   "metadata": {},
   "source": [
    "# Lecture 6: Linear Regression"
   ]
  },
  {
   "cell_type": "code",
   "execution_count": 2,
   "metadata": {},
   "outputs": [],
   "source": [
    "# import necessary libraries\n",
    "import pandas as pd\n",
    "import matplotlib.pyplot as plt\n",
    "from sklearn.model_selection import train_test_split\n",
    "from sklearn.linear_model import LinearRegression"
   ]
  },
  {
   "cell_type": "code",
   "execution_count": 13,
   "metadata": {},
   "outputs": [
    {
     "name": "stdout",
     "output_type": "stream",
     "text": [
      "Dataset loaded successfully!\n"
     ]
    }
   ],
   "source": [
    "# Load the dataset\n",
    "df = pd.read_csv(\"sample_employee_dataset_1000.csv\")\n",
    "print(\"Dataset loaded successfully!\")"
   ]
  },
  {
   "cell_type": "code",
   "execution_count": 14,
   "metadata": {},
   "outputs": [
    {
     "name": "stdout",
     "output_type": "stream",
     "text": [
      "\n",
      "Dataset preview:\n",
      "   ID    Name  Age  Gender     Salary Joining Date  Is Active      Comments\n",
      "0   1   Linda   24  Female   87372.00   2021-03-21       True   Team Player\n",
      "1   2    Sara   40    Male   68565.37   2018-05-20       True  Fast Learner\n",
      "2   3    Sara   43    Male  100076.38   2023-12-03      False  Fast Learner\n",
      "3   4  Rachel   42  Female   43901.70   2016-11-14      False      Creative\n",
      "4   5  Rachel   44  Female   76021.57   2018-09-13      False   Team Player\n",
      "\n",
      "Column Names:\n",
      "Index(['ID', 'Name', 'Age', 'Gender', 'Salary', 'Joining Date', 'Is Active',\n",
      "       'Comments'],\n",
      "      dtype='object')\n"
     ]
    }
   ],
   "source": [
    "# Display dataset information if loaded\n",
    "print(\"\\nDataset preview:\")\n",
    "print(df.head())\n",
    "print(\"\\nColumn Names:\")\n",
    "print(df.columns)\n"
   ]
  },
  {
   "cell_type": "code",
   "execution_count": 15,
   "metadata": {},
   "outputs": [
    {
     "name": "stdout",
     "output_type": "stream",
     "text": [
      "\n",
      "Renamed Columns:\n",
      "Index(['ID', 'Name', 'Age', 'Gender', 'Salary', 'Joining Date', 'Is Active',\n",
      "       'Comments'],\n",
      "      dtype='object')\n"
     ]
    }
   ],
   "source": [
    "# Rename Column name for clarity\n",
    "df.columns = ['ID', 'Name', 'Age', 'Gender', 'Salary', 'Joining Date', 'Is Active', 'Comments']\n",
    "print(\"\\nRenamed Columns:\")\n",
    "print(df.columns)"
   ]
  },
  {
   "cell_type": "code",
   "execution_count": 16,
   "metadata": {},
   "outputs": [
    {
     "name": "stdout",
     "output_type": "stream",
     "text": [
      "\n",
      "Numeric Columns:\n",
      "['Age', 'Salary']\n"
     ]
    }
   ],
   "source": [
    "# Select numeric colulmns for regression\n",
    "numeric_columns = df.select_dtypes(include=['int64', 'float64']).columns.tolist()\n",
    "numeric_columns.remove('ID')  # Remove ID column if present it's not needed for regression\n",
    "print(\"\\nNumeric Columns:\")\n",
    "print(numeric_columns)"
   ]
  },
  {
   "cell_type": "code",
   "execution_count": 17,
   "metadata": {},
   "outputs": [],
   "source": [
    "# Define features X and target y variable\n",
    "X = df[['Age']] #Dataframe\n",
    "Y = df['Salary'] #Series "
   ]
  },
  {
   "cell_type": "code",
   "execution_count": 18,
   "metadata": {},
   "outputs": [],
   "source": [
    "# Split the dataset into training and testing sets\n",
    "X_train, X_test, Y_train, Y_test = train_test_split(X, Y, test_size=0.2, random_state=42)"
   ]
  },
  {
   "cell_type": "code",
   "execution_count": 19,
   "metadata": {},
   "outputs": [],
   "source": [
    "#create and train the Linear Regression model\n",
    "model = LinearRegression()\n",
    "model.fit(X_train, Y_train)\n",
    "\n",
    "# prediction on test data\n",
    "Y_predict = model.predict(X_test)\n",
    "\n"
   ]
  },
  {
   "cell_type": "code",
   "execution_count": 20,
   "metadata": {},
   "outputs": [
    {
     "name": "stdout",
     "output_type": "stream",
     "text": [
      "\n",
      "Model Coefficients:\n",
      "Intercept: 80672.07825685601\n",
      "Slope: -89.06807843594666\n"
     ]
    }
   ],
   "source": [
    "#Display model coefficients and intercept\n",
    "print(\"\\nModel Coefficients:\")\n",
    "print(f\"Intercept: {model.intercept_}\")\n",
    "print(f\"Slope: {model.coef_[0]}\")\n"
   ]
  },
  {
   "cell_type": "code",
   "execution_count": 21,
   "metadata": {},
   "outputs": [
    {
     "name": "stdout",
     "output_type": "stream",
     "text": [
      "\n",
      "New Predictions:\n",
      "Age: 25, Predicted Salary: 78445.38\n",
      "Age: 30, Predicted Salary: 78000.04\n",
      "Age: 35, Predicted Salary: 77554.70\n",
      "Age: 40, Predicted Salary: 77109.36\n",
      "Age: 45, Predicted Salary: 76664.01\n"
     ]
    }
   ],
   "source": [
    "# predict for new data\n",
    "new_data = pd.DataFrame({'Age': [25,30, 35, 40,45]}) # Create a DataFrame for new data\n",
    "new_predictions = model.predict(new_data) # Predict using the model\n",
    "\n",
    "print(\"\\nNew Predictions:\")\n",
    "for age, prediction in zip(new_data['Age'], new_predictions):\n",
    "    print(f\"Age: {age}, Predicted Salary: {prediction:.2f}\")\n"
   ]
  },
  {
   "cell_type": "code",
   "execution_count": null,
   "metadata": {},
   "outputs": [],
   "source": []
  }
 ],
 "metadata": {
  "kernelspec": {
   "display_name": "base",
   "language": "python",
   "name": "python3"
  },
  "language_info": {
   "codemirror_mode": {
    "name": "ipython",
    "version": 3
   },
   "file_extension": ".py",
   "mimetype": "text/x-python",
   "name": "python",
   "nbconvert_exporter": "python",
   "pygments_lexer": "ipython3",
   "version": "3.12.7"
  }
 },
 "nbformat": 4,
 "nbformat_minor": 2
}
